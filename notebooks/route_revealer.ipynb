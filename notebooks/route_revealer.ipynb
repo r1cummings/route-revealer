{
 "cells": [
  {
   "cell_type": "code",
   "execution_count": 21,
   "metadata": {},
   "outputs": [],
   "source": [
    "import pandas as pd\n",
    "import numpy as np\n",
    "import requests\n",
    "import re\n",
    "\n",
    "import openrouteservice\n",
    "import json\n",
    "import geopy"
   ]
  },
  {
   "cell_type": "code",
   "execution_count": 31,
   "metadata": {},
   "outputs": [
    {
     "name": "stdout",
     "output_type": "stream",
     "text": [
      "(-118.92084123989956, 34.39196708819081)\n"
     ]
    }
   ],
   "source": [
    "from geopy.geocoders import Nominatim\n",
    "geolocator = Nominatim(user_agent=\"Route Revealer\")\n",
    "location = geolocator.geocode(\"869 Burlington, Fillmore, CA, 93015\") #ex\n",
    "\n",
    "print((location.longitude, location.latitude))\n"
   ]
  },
  {
   "cell_type": "code",
   "execution_count": 2,
   "metadata": {},
   "outputs": [
    {
     "name": "stdout",
     "output_type": "stream",
     "text": [
      "200 OK\n",
      "{\"durations\":[[0.0,5755.66,88843.65],[5627.36,0.0,86959.81],[88247.25,86226.88,0.0]],\"distances\":[[0.0,87.53,1512.56],[86.85,0.0,1482.41],[1479.78,1449.99,0.0]],\"destinations\":[{\"location\":[9.700817,48.476406],\"snapped_distance\":118.92},{\"location\":[9.207773,49.153882],\"snapped_distance\":10.54},{\"location\":[37.572963,55.801279],\"snapped_distance\":17.45}],\"sources\":[{\"location\":[9.700817,48.476406],\"snapped_distance\":118.92},{\"location\":[9.207773,49.153882],\"snapped_distance\":10.54},{\"location\":[37.572963,55.801279],\"snapped_distance\":17.45}],\"metadata\":{\"attribution\":\"openrouteservice.org | OpenStreetMap contributors\",\"service\":\"matrix\",\"timestamp\":1594154528968,\"query\":{\"locations\":[[9.70093,48.477473],[9.207916,49.153868],[37.573242,55.801281]],\"profile\":\"driving-car\",\"responseType\":\"json\",\"metricsStrings\":[\"DISTANCE\",\"DURATION\"],\"metrics\":[\"distance\",\"duration\"],\"units\":\"mi\"},\"engine\":{\"version\":\"6.1.1\",\"build_date\":\"2020-06-18T15:14:48Z\",\"graph_date\":\"2020-07-01T08:16:27Z\"}}}\n"
     ]
    }
   ],
   "source": [
    "body = {\"locations\":[[9.70093,48.477473],[9.207916,49.153868],[37.573242,55.801281]],\"metrics\":[\"distance\",\"duration\"],\"units\":\"mi\"}\n",
    "\n",
    "headers = {\n",
    "    'Accept': 'application/json, application/geo+json, application/gpx+xml, img/png; charset=utf-8',\n",
    "    'Authorization': '5b3ce3597851110001cf6248671670378c684678936d09cf57ef7b50',\n",
    "    'Content-Type': 'application/json; charset=utf-8'\n",
    "}\n",
    "call = requests.post('https://api.openrouteservice.org/v2/matrix/driving-car', json=body, headers=headers)\n",
    "\n",
    "print(call.status_code, call.reason)\n",
    "print(call.text)"
   ]
  },
  {
   "cell_type": "code",
   "execution_count": 3,
   "metadata": {},
   "outputs": [
    {
     "data": {
      "text/plain": [
       "{'durations': [[0.0, 5755.66, 88843.65],\n",
       "  [5627.36, 0.0, 86959.81],\n",
       "  [88247.25, 86226.88, 0.0]],\n",
       " 'distances': [[0.0, 87.53, 1512.56],\n",
       "  [86.85, 0.0, 1482.41],\n",
       "  [1479.78, 1449.99, 0.0]],\n",
       " 'destinations': [{'location': [9.700817, 48.476406],\n",
       "   'snapped_distance': 118.92},\n",
       "  {'location': [9.207773, 49.153882], 'snapped_distance': 10.54},\n",
       "  {'location': [37.572963, 55.801279], 'snapped_distance': 17.45}],\n",
       " 'sources': [{'location': [9.700817, 48.476406], 'snapped_distance': 118.92},\n",
       "  {'location': [9.207773, 49.153882], 'snapped_distance': 10.54},\n",
       "  {'location': [37.572963, 55.801279], 'snapped_distance': 17.45}],\n",
       " 'metadata': {'attribution': 'openrouteservice.org | OpenStreetMap contributors',\n",
       "  'service': 'matrix',\n",
       "  'timestamp': 1594154528968,\n",
       "  'query': {'locations': [[9.70093, 48.477473],\n",
       "    [9.207916, 49.153868],\n",
       "    [37.573242, 55.801281]],\n",
       "   'profile': 'driving-car',\n",
       "   'responseType': 'json',\n",
       "   'metricsStrings': ['DISTANCE', 'DURATION'],\n",
       "   'metrics': ['distance', 'duration'],\n",
       "   'units': 'mi'},\n",
       "  'engine': {'version': '6.1.1',\n",
       "   'build_date': '2020-06-18T15:14:48Z',\n",
       "   'graph_date': '2020-07-01T08:16:27Z'}}}"
      ]
     },
     "execution_count": 3,
     "metadata": {},
     "output_type": "execute_result"
    }
   ],
   "source": [
    "output = json.loads(call.text)\n",
    "output"
   ]
  },
  {
   "cell_type": "code",
   "execution_count": 16,
   "metadata": {},
   "outputs": [
    {
     "data": {
      "text/plain": [
       "[86.85, 0.0, 1482.41]"
      ]
     },
     "execution_count": 16,
     "metadata": {},
     "output_type": "execute_result"
    }
   ],
   "source": [
    "output['distances'][1]"
   ]
  },
  {
   "cell_type": "code",
   "execution_count": 20,
   "metadata": {},
   "outputs": [
    {
     "data": {
      "text/plain": [
       "[93.79, 0.0, 1449.33]"
      ]
     },
     "execution_count": 20,
     "metadata": {},
     "output_type": "execute_result"
    }
   ],
   "source": [
    "[round(i/60,2) for i in output['durations'][1]]"
   ]
  },
  {
   "cell_type": "code",
   "execution_count": null,
   "metadata": {},
   "outputs": [],
   "source": []
  },
  {
   "cell_type": "markdown",
   "metadata": {},
   "source": [
    "## Example"
   ]
  },
  {
   "cell_type": "code",
   "execution_count": 116,
   "metadata": {},
   "outputs": [
    {
     "data": {
      "text/html": [
       "<div>\n",
       "<style scoped>\n",
       "    .dataframe tbody tr th:only-of-type {\n",
       "        vertical-align: middle;\n",
       "    }\n",
       "\n",
       "    .dataframe tbody tr th {\n",
       "        vertical-align: top;\n",
       "    }\n",
       "\n",
       "    .dataframe thead th {\n",
       "        text-align: right;\n",
       "    }\n",
       "</style>\n",
       "<table border=\"1\" class=\"dataframe\">\n",
       "  <thead>\n",
       "    <tr style=\"text-align: right;\">\n",
       "      <th></th>\n",
       "      <th>Departure Street</th>\n",
       "      <th>D City</th>\n",
       "      <th>D State</th>\n",
       "      <th>D Zip</th>\n",
       "      <th>Equipment Street</th>\n",
       "      <th>E City</th>\n",
       "      <th>E State</th>\n",
       "      <th>E Zip</th>\n",
       "      <th>WorkSite Street</th>\n",
       "      <th>W City</th>\n",
       "      <th>W State</th>\n",
       "      <th>W Zip</th>\n",
       "    </tr>\n",
       "  </thead>\n",
       "  <tbody>\n",
       "    <tr>\n",
       "      <th>0</th>\n",
       "      <td>869 Burlington Street</td>\n",
       "      <td>Fillmore</td>\n",
       "      <td>CA</td>\n",
       "      <td>93015</td>\n",
       "      <td>389 N Brent Street</td>\n",
       "      <td>Ventura</td>\n",
       "      <td>CA</td>\n",
       "      <td>93003</td>\n",
       "      <td>763 Burlington St</td>\n",
       "      <td>Fillmore</td>\n",
       "      <td>CA</td>\n",
       "      <td>93015</td>\n",
       "    </tr>\n",
       "    <tr>\n",
       "      <th>1</th>\n",
       "      <td>7140 Winding Way</td>\n",
       "      <td>Fair Oaks</td>\n",
       "      <td>CA</td>\n",
       "      <td>95628</td>\n",
       "      <td>557 Mockingbird Lane</td>\n",
       "      <td>Fillmore</td>\n",
       "      <td>CA</td>\n",
       "      <td>93015</td>\n",
       "      <td>6675 Morse Ave</td>\n",
       "      <td>North Hollywood</td>\n",
       "      <td>CA</td>\n",
       "      <td>91606</td>\n",
       "    </tr>\n",
       "  </tbody>\n",
       "</table>\n",
       "</div>"
      ],
      "text/plain": [
       "        Departure Street     D City D State  D Zip       Equipment Street  \\\n",
       "0  869 Burlington Street   Fillmore      CA  93015     389 N Brent Street   \n",
       "1       7140 Winding Way  Fair Oaks      CA  95628   557 Mockingbird Lane   \n",
       "\n",
       "      E City E State  E Zip     WorkSite Street            W City W State  \\\n",
       "0    Ventura      CA  93003   763 Burlington St          Fillmore      CA   \n",
       "1   Fillmore      CA  93015      6675 Morse Ave   North Hollywood      CA   \n",
       "\n",
       "    W Zip  \n",
       "0   93015  \n",
       "1   91606  "
      ]
     },
     "execution_count": 116,
     "metadata": {},
     "output_type": "execute_result"
    }
   ],
   "source": [
    "df = pd.read_csv('/Users/ryan/Desktop/test_route.txt')\n",
    "df"
   ]
  },
  {
   "cell_type": "code",
   "execution_count": 117,
   "metadata": {},
   "outputs": [
    {
     "data": {
      "text/html": [
       "<div>\n",
       "<style scoped>\n",
       "    .dataframe tbody tr th:only-of-type {\n",
       "        vertical-align: middle;\n",
       "    }\n",
       "\n",
       "    .dataframe tbody tr th {\n",
       "        vertical-align: top;\n",
       "    }\n",
       "\n",
       "    .dataframe thead th {\n",
       "        text-align: right;\n",
       "    }\n",
       "</style>\n",
       "<table border=\"1\" class=\"dataframe\">\n",
       "  <thead>\n",
       "    <tr style=\"text-align: right;\">\n",
       "      <th></th>\n",
       "      <th>Departure Street</th>\n",
       "      <th>D City</th>\n",
       "      <th>D State</th>\n",
       "      <th>D Zip</th>\n",
       "      <th>Equipment Street</th>\n",
       "      <th>E City</th>\n",
       "      <th>E State</th>\n",
       "      <th>E Zip</th>\n",
       "      <th>WorkSite Street</th>\n",
       "      <th>W City</th>\n",
       "      <th>W State</th>\n",
       "      <th>W Zip</th>\n",
       "    </tr>\n",
       "  </thead>\n",
       "  <tbody>\n",
       "    <tr>\n",
       "      <th>0</th>\n",
       "      <td>869 Burlington Street</td>\n",
       "      <td>Fillmore</td>\n",
       "      <td>CA</td>\n",
       "      <td>93015</td>\n",
       "      <td>389 N Brent Street</td>\n",
       "      <td>Ventura</td>\n",
       "      <td>CA</td>\n",
       "      <td>93003</td>\n",
       "      <td>763 Burlington St</td>\n",
       "      <td>Fillmore</td>\n",
       "      <td>CA</td>\n",
       "      <td>93015</td>\n",
       "    </tr>\n",
       "    <tr>\n",
       "      <th>1</th>\n",
       "      <td>7140 Winding Way</td>\n",
       "      <td>Fair Oaks</td>\n",
       "      <td>CA</td>\n",
       "      <td>95628</td>\n",
       "      <td>557 Mockingbird Lane</td>\n",
       "      <td>Fillmore</td>\n",
       "      <td>CA</td>\n",
       "      <td>93015</td>\n",
       "      <td>6675 Morse Ave</td>\n",
       "      <td>North Hollywood</td>\n",
       "      <td>CA</td>\n",
       "      <td>91606</td>\n",
       "    </tr>\n",
       "  </tbody>\n",
       "</table>\n",
       "</div>"
      ],
      "text/plain": [
       "        Departure Street     D City D State  D Zip      Equipment Street  \\\n",
       "0  869 Burlington Street   Fillmore      CA  93015    389 N Brent Street   \n",
       "1       7140 Winding Way  Fair Oaks      CA  95628  557 Mockingbird Lane   \n",
       "\n",
       "     E City E State  E Zip    WorkSite Street           W City W State  W Zip  \n",
       "0   Ventura      CA  93003  763 Burlington St         Fillmore      CA  93015  \n",
       "1  Fillmore      CA  93015     6675 Morse Ave  North Hollywood      CA  91606  "
      ]
     },
     "execution_count": 117,
     "metadata": {},
     "output_type": "execute_result"
    }
   ],
   "source": [
    "df = df.applymap(lambda x: x.strip() if isinstance(x, str) else x)\n",
    "df #stripped of whitespaces!"
   ]
  },
  {
   "cell_type": "code",
   "execution_count": 118,
   "metadata": {},
   "outputs": [
    {
     "name": "stdout",
     "output_type": "stream",
     "text": [
      "(-118.92084123989956, 34.39196708819081)\n",
      "(-121.29714466666667, 38.64904383333334)\n"
     ]
    }
   ],
   "source": [
    "departure = df[['Departure Street','D State','D Zip']]\n",
    "\n",
    "addresses_d = []\n",
    "for i in range(departure.shape[0]):\n",
    "    addresses_d.append(','.join(map(str, departure.iloc[i].values)))\n",
    "addresses_d \n",
    "\n",
    "lat_long_d = []\n",
    "for i in range(len(addresses_d)):\n",
    "    location = geolocator.geocode(addresses_d[i])\n",
    "    lat_long_d.append([location.longitude, location.latitude])\n",
    "    print((location.longitude, location.latitude))"
   ]
  },
  {
   "cell_type": "code",
   "execution_count": 120,
   "metadata": {},
   "outputs": [
    {
     "name": "stdout",
     "output_type": "stream",
     "text": [
      "(-119.25844558108108, 34.278454675675675)\n",
      "(-118.930412, 34.402202)\n"
     ]
    }
   ],
   "source": [
    "equipment = df[['Equipment Street','E State','E Zip']]\n",
    "equipment\n",
    "\n",
    "addresses_e = []\n",
    "for i in range(equipment.shape[0]):\n",
    "    addresses_e.append(','.join(map(str, equipment.iloc[i].values)))\n",
    "addresses_e\n",
    "\n",
    "lat_long_e = []\n",
    "for i in range(len(addresses_e)):\n",
    "    location = geolocator.geocode(addresses_e[i])\n",
    "    lat_long_e.append([location.longitude, location.latitude])\n",
    "    print((location.longitude, location.latitude))\n"
   ]
  },
  {
   "cell_type": "code",
   "execution_count": 121,
   "metadata": {},
   "outputs": [
    {
     "name": "stdout",
     "output_type": "stream",
     "text": [
      "(-118.91837712168271, 34.39226241832958)\n",
      "(-118.417158, 34.1925)\n"
     ]
    }
   ],
   "source": [
    "worksite = df[['WorkSite Street','W State','W Zip']]\n",
    "worksite\n",
    "\n",
    "addresses_w = []\n",
    "for i in range(worksite.shape[0]):\n",
    "    addresses_w.append(','.join(map(str, worksite.iloc[i].values)))\n",
    "addresses_w\n",
    "\n",
    "lat_long_w = []\n",
    "for i in range(len(addresses_w)):\n",
    "    location = geolocator.geocode(addresses_w[i])\n",
    "    lat_long_w.append([location.longitude, location.latitude])\n",
    "    print((location.longitude, location.latitude))"
   ]
  },
  {
   "cell_type": "code",
   "execution_count": 128,
   "metadata": {},
   "outputs": [
    {
     "data": {
      "text/html": [
       "<div>\n",
       "<style scoped>\n",
       "    .dataframe tbody tr th:only-of-type {\n",
       "        vertical-align: middle;\n",
       "    }\n",
       "\n",
       "    .dataframe tbody tr th {\n",
       "        vertical-align: top;\n",
       "    }\n",
       "\n",
       "    .dataframe thead th {\n",
       "        text-align: right;\n",
       "    }\n",
       "</style>\n",
       "<table border=\"1\" class=\"dataframe\">\n",
       "  <thead>\n",
       "    <tr style=\"text-align: right;\">\n",
       "      <th></th>\n",
       "      <th>0</th>\n",
       "      <th>1</th>\n",
       "      <th>0</th>\n",
       "      <th>1</th>\n",
       "      <th>0</th>\n",
       "      <th>1</th>\n",
       "    </tr>\n",
       "  </thead>\n",
       "  <tbody>\n",
       "    <tr>\n",
       "      <th>0</th>\n",
       "      <td>-118.920841</td>\n",
       "      <td>34.391967</td>\n",
       "      <td>-119.258446</td>\n",
       "      <td>34.278455</td>\n",
       "      <td>-118.918377</td>\n",
       "      <td>34.392262</td>\n",
       "    </tr>\n",
       "    <tr>\n",
       "      <th>1</th>\n",
       "      <td>-121.297145</td>\n",
       "      <td>38.649044</td>\n",
       "      <td>-118.930412</td>\n",
       "      <td>34.402202</td>\n",
       "      <td>-118.417158</td>\n",
       "      <td>34.192500</td>\n",
       "    </tr>\n",
       "  </tbody>\n",
       "</table>\n",
       "</div>"
      ],
      "text/plain": [
       "            0          1           0          1           0          1\n",
       "0 -118.920841  34.391967 -119.258446  34.278455 -118.918377  34.392262\n",
       "1 -121.297145  38.649044 -118.930412  34.402202 -118.417158  34.192500"
      ]
     },
     "execution_count": 128,
     "metadata": {},
     "output_type": "execute_result"
    }
   ],
   "source": [
    "combined_df_coords = pd.concat([pd.DataFrame(lat_long_d), pd.DataFrame(lat_long_e), pd.DataFrame(lat_long_w)],axis=1)\n",
    "combined_df_coords"
   ]
  },
  {
   "cell_type": "code",
   "execution_count": null,
   "metadata": {},
   "outputs": [],
   "source": [
    "# need to turn below cell into a loop"
   ]
  },
  {
   "cell_type": "code",
   "execution_count": 141,
   "metadata": {},
   "outputs": [
    {
     "data": {
      "text/plain": [
       "[[-118.92084123989956, 34.39196708819081],\n",
       " [-119.25844558108108, 34.278454675675675],\n",
       " [-118.91837712168271, 34.39226241832958]]"
      ]
     },
     "execution_count": 141,
     "metadata": {},
     "output_type": "execute_result"
    }
   ],
   "source": [
    "input_api = np.array_split(combined_df_coords.iloc[0].values,combined_df_coords.shape[1]/2)\n",
    "input_api = [i.tolist() for i in input_api]\n",
    "input_api"
   ]
  },
  {
   "cell_type": "code",
   "execution_count": 142,
   "metadata": {},
   "outputs": [
    {
     "name": "stdout",
     "output_type": "stream",
     "text": [
      "200 OK\n",
      "{\"durations\":[[0.0,1793.22,55.14],[1798.2,0.0,1835.56],[55.14,1824.12,0.0]],\"distances\":[[0.0,22.94,0.14],[23.01,0.0,23.41],[0.14,23.33,0.0]],\"destinations\":[{\"location\":[-118.920828,34.391883],\"snapped_distance\":9.47},{\"location\":[-119.258368,34.278466],\"snapped_distance\":7.21},{\"location\":[-118.918351,34.392179],\"snapped_distance\":9.6}],\"sources\":[{\"location\":[-118.920828,34.391883],\"snapped_distance\":9.47},{\"location\":[-119.258368,34.278466],\"snapped_distance\":7.21},{\"location\":[-118.918351,34.392179],\"snapped_distance\":9.6}],\"metadata\":{\"attribution\":\"openrouteservice.org | OpenStreetMap contributors\",\"service\":\"matrix\",\"timestamp\":1594166573655,\"query\":{\"locations\":[[-118.92084123989956,34.39196708819081],[-119.25844558108108,34.278454675675675],[-118.91837712168271,34.39226241832958]],\"profile\":\"driving-car\",\"responseType\":\"json\",\"metricsStrings\":[\"DISTANCE\",\"DURATION\"],\"metrics\":[\"distance\",\"duration\"],\"units\":\"mi\"},\"engine\":{\"version\":\"6.1.1\",\"build_date\":\"2020-06-18T15:14:48Z\",\"graph_date\":\"2020-07-01T08:16:27Z\"}}}\n"
     ]
    }
   ],
   "source": [
    "body = {\"locations\":input_api,\"metrics\":[\"distance\",\"duration\"],\"units\":\"mi\"}\n",
    "\n",
    "headers = {\n",
    "    'Accept': 'application/json, application/geo+json, application/gpx+xml, img/png; charset=utf-8',\n",
    "    'Authorization': '5b3ce3597851110001cf6248671670378c684678936d09cf57ef7b50',\n",
    "    'Content-Type': 'application/json; charset=utf-8'\n",
    "}\n",
    "call = requests.post('https://api.openrouteservice.org/v2/matrix/driving-car', json=body, headers=headers)\n",
    "\n",
    "print(call.status_code, call.reason)\n",
    "print(call.text)"
   ]
  },
  {
   "cell_type": "code",
   "execution_count": 144,
   "metadata": {},
   "outputs": [
    {
     "name": "stdout",
     "output_type": "stream",
     "text": [
      "Miles:\n",
      "[23.01, 0.0, 23.41]\n",
      "Time:\n",
      "[29.97, 0.0, 30.59]\n"
     ]
    }
   ],
   "source": [
    "output = json.loads(call.text)\n",
    "print('Miles:')\n",
    "print(output['distances'][1])\n",
    "print('Time:')\n",
    "print([round(i/60,2) for i in output['durations'][1]])"
   ]
  },
  {
   "cell_type": "code",
   "execution_count": null,
   "metadata": {},
   "outputs": [],
   "source": []
  }
 ],
 "metadata": {
  "kernelspec": {
   "display_name": "Python 3",
   "language": "python",
   "name": "python3"
  },
  "language_info": {
   "codemirror_mode": {
    "name": "ipython",
    "version": 3
   },
   "file_extension": ".py",
   "mimetype": "text/x-python",
   "name": "python",
   "nbconvert_exporter": "python",
   "pygments_lexer": "ipython3",
   "version": "3.7.3"
  }
 },
 "nbformat": 4,
 "nbformat_minor": 2
}
